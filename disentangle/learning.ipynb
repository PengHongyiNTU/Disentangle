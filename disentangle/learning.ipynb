{
 "cells": [
  {
   "cell_type": "markdown",
   "source": [
    "# Set up configuration"
   ],
   "metadata": {
    "collapsed": false
   }
  },
  {
   "cell_type": "code",
   "execution_count": 12,
   "metadata": {
    "collapsed": true
   },
   "outputs": [],
   "source": [
    "from federatedscope.core.configs.config import global_cfg\n",
    "init_cfg = global_cfg.clone()"
   ]
  },
  {
   "cell_type": "code",
   "execution_count": 13,
   "outputs": [
    {
     "data": {
      "text/plain": "CN({'cfg_check_funcs': [], 'root': 'data', 'type': 'toy', 'args': [], 'splitter': '', 'splitter_args': [], 'transform': [], 'target_transform': [], 'pre_transform': [], 'batch_size': 64, 'drop_last': False, 'sizes': [10, 5], 'shuffle': True, 'subsample': 1.0, 'splits': [0.8, 0.1, 0.1], 'cSBM_phi': [0.5, 0.5, 0.5], 'loader': '', 'num_workers': 0, 'graphsaint': CN({'cfg_check_funcs': [], 'walk_length': 2, 'num_steps': 30})})"
     },
     "execution_count": 13,
     "metadata": {},
     "output_type": "execute_result"
    }
   ],
   "source": [
    "init_cfg.data"
   ],
   "metadata": {
    "collapsed": false,
    "pycharm": {
     "name": "#%%\n"
    }
   }
  },
  {
   "cell_type": "code",
   "execution_count": 14,
   "outputs": [
    {
     "data": {
      "text/plain": "CN({'cfg_check_funcs': [], 'root': 'data', 'type': 'femnist', 'args': [], 'splitter': '', 'splitter_args': [], 'transform': [], 'target_transform': [], 'pre_transform': [], 'batch_size': 64, 'drop_last': False, 'sizes': [10, 5], 'shuffle': True, 'subsample': 1.0, 'splits': [0.6, 0.2, 0.2], 'cSBM_phi': [0.5, 0.5, 0.5], 'loader': '', 'num_workers': 0, 'graphsaint': CN({'cfg_check_funcs': [], 'walk_length': 2, 'num_steps': 30})})"
     },
     "execution_count": 14,
     "metadata": {},
     "output_type": "execute_result"
    }
   ],
   "source": [
    "init_cfg.data.type = \"femnist\"\n",
    "init_cfg.data.splits = [0.6, 0.2, 0.2]\n",
    "init_cfg.batch_size = 10\n",
    "init_cfg.transform = [['ToTensor'], ['Normalize', {'mean': [0.1307], 'std': [0.3081]}]]\n",
    "init_cfg.data"
   ],
   "metadata": {
    "collapsed": false,
    "pycharm": {
     "name": "#%%\n"
    }
   }
  },
  {
   "cell_type": "code",
   "execution_count": 8,
   "outputs": [],
   "source": [
    "init_cfg.use_gpu = True\n",
    "init_cfg.device = 0\n",
    "init_cfg.early_stop.patience = 5"
   ],
   "metadata": {
    "collapsed": false,
    "pycharm": {
     "name": "#%%\n"
    }
   }
  },
  {
   "cell_type": "code",
   "execution_count": 7,
   "outputs": [],
   "source": [
    "init_cfg.federate.mode = \"standalone\"\n",
    "init_cfg.federate.client_num = 100\n",
    "init_cfg.federate.sample_client_rate = 0.2\n",
    "init_cfg.federate.total_round_num = 200\n"
   ],
   "metadata": {
    "collapsed": false,
    "pycharm": {
     "name": "#%%\n"
    }
   }
  },
  {
   "cell_type": "markdown",
   "source": [],
   "metadata": {
    "collapsed": false
   }
  }
 ],
 "metadata": {
  "kernelspec": {
   "display_name": "Python 3",
   "language": "python",
   "name": "python3"
  },
  "language_info": {
   "codemirror_mode": {
    "name": "ipython",
    "version": 2
   },
   "file_extension": ".py",
   "mimetype": "text/x-python",
   "name": "python",
   "nbconvert_exporter": "python",
   "pygments_lexer": "ipython2",
   "version": "2.7.6"
  }
 },
 "nbformat": 4,
 "nbformat_minor": 0
}